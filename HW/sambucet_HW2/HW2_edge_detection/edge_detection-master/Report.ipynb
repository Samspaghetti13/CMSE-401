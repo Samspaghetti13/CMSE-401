{
 "cells": [
  {
   "cell_type": "markdown",
   "metadata": {},
   "source": [
    "# Results of Edge Detection Benchmark and Speedup\n",
    "\n",
    "By: Maximus Sambucetti"
   ]
  },
  {
   "cell_type": "markdown",
   "metadata": {},
   "source": [
    "## Serial Experiment\n",
    "\n",
    "I compiled the serial code on my windows laptop using the following commands:\n",
    "\n",
    "```\n",
    "time make test\n",
    "```"
   ]
  },
  {
   "cell_type": "markdown",
   "metadata": {},
   "source": [
    "I ran the code 5 times on the HPCC terminal and obtained the following results"
   ]
  },
  {
   "attachments": {
    "image-2.png": {
     "image/png": "[encoded data removed]"
    }
   },
   "cell_type": "markdown",
   "metadata": {},
   "source": [
    "![image-2.png](attachment:image-2.png)"
   ]
  },
  {
   "cell_type": "markdown",
   "metadata": {},
   "source": [
    "## Code Optimization\n",
    "\n",
    "I changed the order of the for loops for rows and columns.\n",
    "I also established the max and min values in the for loops to reduce constant use of the function and slowing of time\n",
    "I established the transpose of xfilter, or yfilter, instead of using the for loops\n",
    "\n",
    "Show your timing results as either a table or a graph."
   ]
  },
  {
   "cell_type": "markdown",
   "metadata": {},
   "source": []
  },
  {
   "cell_type": "markdown",
   "metadata": {},
   "source": [
    "## OpenMP Speedup\n",
    "\n",
    "###Describe what you did to speed up your code using OpenMP###\n",
    "\n",
    "* Idea 1\n",
    "* Idea 2\n",
    "* etc...\n",
    "\n",
    "Show your timing results as either a table or a graph."
   ]
  },
  {
   "cell_type": "markdown",
   "metadata": {},
   "source": [
    "## Concluding Discussion\n",
    "\n",
    "###Describe what you learned during this process, what worked, what didn't work, where did you have trouble and what you learned###"
   ]
  },
  {
   "cell_type": "markdown",
   "metadata": {},
   "source": [
    "----"
   ]
  }
 ],
 "metadata": {
  "kernelspec": {
   "display_name": "Python 3 (ipykernel)",
   "language": "python",
   "name": "python3"
  },
  "language_info": {
   "codemirror_mode": {
    "name": "ipython",
    "version": 3
   },
   "file_extension": ".py",
   "mimetype": "text/x-python",
   "name": "python",
   "nbconvert_exporter": "python",
   "pygments_lexer": "ipython3",
   "version": "3.9.13"
  }
 },
 "nbformat": 4,
 "nbformat_minor": 4
}
